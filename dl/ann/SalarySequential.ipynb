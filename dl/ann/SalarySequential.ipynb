{
  "nbformat": 4,
  "nbformat_minor": 0,
  "metadata": {
    "colab": {
      "name": "Untitled0.ipynb",
      "provenance": [],
      "collapsed_sections": [],
      "authorship_tag": "ABX9TyPuwPCyN38nmnTim3R2L26z",
      "include_colab_link": true
    },
    "kernelspec": {
      "name": "python3",
      "display_name": "Python 3"
    }
  },
  "cells": [
    {
      "cell_type": "markdown",
      "metadata": {
        "id": "view-in-github",
        "colab_type": "text"
      },
      "source": [
        "<a href=\"https://colab.research.google.com/github/kriti5/ai-ml/blob/main/dl/ann/SalarySequential.ipynb\" target=\"_parent\"><img src=\"https://colab.research.google.com/assets/colab-badge.svg\" alt=\"Open In Colab\"/></a>"
      ]
    },
    {
      "cell_type": "code",
      "metadata": {
        "id": "XkRv3GryoSkO"
      },
      "source": [
        "###Sequential ANN Model\n",
        "import numpy as np\n",
        "import pandas as pd\n",
        "import tensorflow as tf"
      ],
      "execution_count": null,
      "outputs": []
    },
    {
      "cell_type": "code",
      "metadata": {
        "id": "upVMhMJmdHby"
      },
      "source": [
        "###Sequential ANN Model\n",
        "import numpy as np\n",
        "import pandas as pd\n",
        "import tensorflow as tf"
      ],
      "execution_count": null,
      "outputs": []
    },
    {
      "cell_type": "code",
      "metadata": {
        "colab": {
          "base_uri": "https://localhost:8080/",
          "height": 35
        },
        "id": "0DedmgOnD5Lb",
        "outputId": "b1ebe828-b442-4a3c-dc25-5a1bc7d60a8c"
      },
      "source": [
        "tf.__version__"
      ],
      "execution_count": null,
      "outputs": [
        {
          "output_type": "execute_result",
          "data": {
            "application/vnd.google.colaboratory.intrinsic+json": {
              "type": "string"
            },
            "text/plain": [
              "'2.3.0'"
            ]
          },
          "metadata": {
            "tags": []
          },
          "execution_count": 2
        }
      ]
    },
    {
      "cell_type": "code",
      "metadata": {
        "colab": {
          "resources": {
            "http://localhost:8080/nbextensions/google.colab/files.js": {
              "data": "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",
              "ok": true,
              "headers": [
                [
                  "content-type",
                  "application/javascript"
                ]
              ],
              "status": 200,
              "status_text": ""
            }
          },
          "base_uri": "https://localhost:8080/",
          "height": 72
        },
        "id": "nGf7K-cND8_u",
        "outputId": "010c6331-7225-4592-cec2-78cb8af3123a"
      },
      "source": [
        "#Load the data\n",
        "from google.colab import files\n",
        "dataToLoad = files.upload()\n",
        "#salarayData = pd.read_csv('')\n",
        "\n"
      ],
      "execution_count": null,
      "outputs": [
        {
          "output_type": "display_data",
          "data": {
            "text/html": [
              "\n",
              "     <input type=\"file\" id=\"files-e53011f2-e8b1-46aa-b983-576e708f89b2\" name=\"files[]\" multiple disabled\n",
              "        style=\"border:none\" />\n",
              "     <output id=\"result-e53011f2-e8b1-46aa-b983-576e708f89b2\">\n",
              "      Upload widget is only available when the cell has been executed in the\n",
              "      current browser session. Please rerun this cell to enable.\n",
              "      </output>\n",
              "      <script src=\"/nbextensions/google.colab/files.js\"></script> "
            ],
            "text/plain": [
              "<IPython.core.display.HTML object>"
            ]
          },
          "metadata": {
            "tags": []
          }
        },
        {
          "output_type": "stream",
          "text": [
            "Saving Salary_Data.csv to Salary_Data (1).csv\n"
          ],
          "name": "stdout"
        }
      ]
    },
    {
      "cell_type": "code",
      "metadata": {
        "id": "ni6PTemhEzqj"
      },
      "source": [
        "import io\n",
        "salaryData = pd.read_csv(io.BytesIO(dataToLoad['Salary_Data.csv']))"
      ],
      "execution_count": null,
      "outputs": []
    },
    {
      "cell_type": "code",
      "metadata": {
        "colab": {
          "base_uri": "https://localhost:8080/"
        },
        "id": "MKOCNwzHE8ej",
        "outputId": "7dde2eb5-ac09-4377-9671-71dd16cc0ff3"
      },
      "source": [
        "salaryData.info()\n",
        "#No NA found"
      ],
      "execution_count": null,
      "outputs": [
        {
          "output_type": "stream",
          "text": [
            "<class 'pandas.core.frame.DataFrame'>\n",
            "RangeIndex: 30 entries, 0 to 29\n",
            "Data columns (total 2 columns):\n",
            " #   Column           Non-Null Count  Dtype  \n",
            "---  ------           --------------  -----  \n",
            " 0   YearsExperience  30 non-null     float64\n",
            " 1   Salary           30 non-null     float64\n",
            "dtypes: float64(2)\n",
            "memory usage: 608.0 bytes\n"
          ],
          "name": "stdout"
        }
      ]
    },
    {
      "cell_type": "code",
      "metadata": {
        "colab": {
          "base_uri": "https://localhost:8080/",
          "height": 204
        },
        "id": "lbl_CqNcFEib",
        "outputId": "e0a39277-e761-4a69-c252-82054ccbe418"
      },
      "source": [
        "salaryData.head()"
      ],
      "execution_count": null,
      "outputs": [
        {
          "output_type": "execute_result",
          "data": {
            "text/html": [
              "<div>\n",
              "<style scoped>\n",
              "    .dataframe tbody tr th:only-of-type {\n",
              "        vertical-align: middle;\n",
              "    }\n",
              "\n",
              "    .dataframe tbody tr th {\n",
              "        vertical-align: top;\n",
              "    }\n",
              "\n",
              "    .dataframe thead th {\n",
              "        text-align: right;\n",
              "    }\n",
              "</style>\n",
              "<table border=\"1\" class=\"dataframe\">\n",
              "  <thead>\n",
              "    <tr style=\"text-align: right;\">\n",
              "      <th></th>\n",
              "      <th>YearsExperience</th>\n",
              "      <th>Salary</th>\n",
              "    </tr>\n",
              "  </thead>\n",
              "  <tbody>\n",
              "    <tr>\n",
              "      <th>0</th>\n",
              "      <td>1.1</td>\n",
              "      <td>39343.0</td>\n",
              "    </tr>\n",
              "    <tr>\n",
              "      <th>1</th>\n",
              "      <td>1.3</td>\n",
              "      <td>46205.0</td>\n",
              "    </tr>\n",
              "    <tr>\n",
              "      <th>2</th>\n",
              "      <td>1.5</td>\n",
              "      <td>37731.0</td>\n",
              "    </tr>\n",
              "    <tr>\n",
              "      <th>3</th>\n",
              "      <td>2.0</td>\n",
              "      <td>43525.0</td>\n",
              "    </tr>\n",
              "    <tr>\n",
              "      <th>4</th>\n",
              "      <td>2.2</td>\n",
              "      <td>39891.0</td>\n",
              "    </tr>\n",
              "  </tbody>\n",
              "</table>\n",
              "</div>"
            ],
            "text/plain": [
              "   YearsExperience   Salary\n",
              "0              1.1  39343.0\n",
              "1              1.3  46205.0\n",
              "2              1.5  37731.0\n",
              "3              2.0  43525.0\n",
              "4              2.2  39891.0"
            ]
          },
          "metadata": {
            "tags": []
          },
          "execution_count": 14
        }
      ]
    },
    {
      "cell_type": "code",
      "metadata": {
        "colab": {
          "base_uri": "https://localhost:8080/",
          "height": 297
        },
        "id": "03W9qORsGMbL",
        "outputId": "430926c1-9070-461c-81ae-cd97807d177e"
      },
      "source": [
        "salaryData.describe()"
      ],
      "execution_count": null,
      "outputs": [
        {
          "output_type": "execute_result",
          "data": {
            "text/html": [
              "<div>\n",
              "<style scoped>\n",
              "    .dataframe tbody tr th:only-of-type {\n",
              "        vertical-align: middle;\n",
              "    }\n",
              "\n",
              "    .dataframe tbody tr th {\n",
              "        vertical-align: top;\n",
              "    }\n",
              "\n",
              "    .dataframe thead th {\n",
              "        text-align: right;\n",
              "    }\n",
              "</style>\n",
              "<table border=\"1\" class=\"dataframe\">\n",
              "  <thead>\n",
              "    <tr style=\"text-align: right;\">\n",
              "      <th></th>\n",
              "      <th>YearsExperience</th>\n",
              "      <th>Salary</th>\n",
              "    </tr>\n",
              "  </thead>\n",
              "  <tbody>\n",
              "    <tr>\n",
              "      <th>count</th>\n",
              "      <td>30.000000</td>\n",
              "      <td>30.000000</td>\n",
              "    </tr>\n",
              "    <tr>\n",
              "      <th>mean</th>\n",
              "      <td>5.313333</td>\n",
              "      <td>76003.000000</td>\n",
              "    </tr>\n",
              "    <tr>\n",
              "      <th>std</th>\n",
              "      <td>2.837888</td>\n",
              "      <td>27414.429785</td>\n",
              "    </tr>\n",
              "    <tr>\n",
              "      <th>min</th>\n",
              "      <td>1.100000</td>\n",
              "      <td>37731.000000</td>\n",
              "    </tr>\n",
              "    <tr>\n",
              "      <th>25%</th>\n",
              "      <td>3.200000</td>\n",
              "      <td>56720.750000</td>\n",
              "    </tr>\n",
              "    <tr>\n",
              "      <th>50%</th>\n",
              "      <td>4.700000</td>\n",
              "      <td>65237.000000</td>\n",
              "    </tr>\n",
              "    <tr>\n",
              "      <th>75%</th>\n",
              "      <td>7.700000</td>\n",
              "      <td>100544.750000</td>\n",
              "    </tr>\n",
              "    <tr>\n",
              "      <th>max</th>\n",
              "      <td>10.500000</td>\n",
              "      <td>122391.000000</td>\n",
              "    </tr>\n",
              "  </tbody>\n",
              "</table>\n",
              "</div>"
            ],
            "text/plain": [
              "       YearsExperience         Salary\n",
              "count        30.000000      30.000000\n",
              "mean          5.313333   76003.000000\n",
              "std           2.837888   27414.429785\n",
              "min           1.100000   37731.000000\n",
              "25%           3.200000   56720.750000\n",
              "50%           4.700000   65237.000000\n",
              "75%           7.700000  100544.750000\n",
              "max          10.500000  122391.000000"
            ]
          },
          "metadata": {
            "tags": []
          },
          "execution_count": 16
        }
      ]
    },
    {
      "cell_type": "code",
      "metadata": {
        "id": "9BncqetTGPu3"
      },
      "source": [
        "#Sepaarte features and labels\n",
        "#ANN --> features and labels, both should be in 2D\n",
        "# Always standardise your features\n",
        "# If going to work on regression, labels should be in defined range (0,1)\n",
        "features = salaryData.iloc[:,[0]].values\n",
        "label = salaryData.iloc[:,[1]].values"
      ],
      "execution_count": null,
      "outputs": []
    },
    {
      "cell_type": "code",
      "metadata": {
        "id": "6w6NgIUpHAbj"
      },
      "source": [
        "#Standardizing the features\n",
        "from sklearn.preprocessing import StandardScaler\n",
        "scaledFeatures = StandardScaler()\n",
        "features = scaledFeatures.fit_transform(features)"
      ],
      "execution_count": null,
      "outputs": []
    },
    {
      "cell_type": "code",
      "metadata": {
        "id": "tawKysPvHSNv"
      },
      "source": [
        "#Bring your label to a defined range (0,1)\n",
        "from sklearn.preprocessing import MinMaxScaler\n",
        "scaledLabel = MinMaxScaler() #By default keeps it in 0-1 range\n",
        "label = scaledLabel.fit_transform(label)"
      ],
      "execution_count": null,
      "outputs": []
    },
    {
      "cell_type": "code",
      "metadata": {
        "id": "aakW42udHlok"
      },
      "source": [
        "#Create Train test Split\n",
        "from sklearn.model_selection import train_test_split\n",
        "X_train, X_test, y_train, y_test = train_test_split(features,\n",
        "                                                    label,\n",
        "                                                    test_size= 0.2)"
      ],
      "execution_count": null,
      "outputs": []
    },
    {
      "cell_type": "code",
      "metadata": {
        "id": "hkQ69cHsH4Zq"
      },
      "source": [
        "#For regression, activation function is 'linear' for output\n",
        "#For hidden layers, there is nothing defined it is only hit and trial, using relu to begin with\n",
        "\n",
        "model = tf.keras.models.Sequential()\n",
        "#Using Sequential model for ANN\n",
        "head\n",
        "model.add(tf.keras.layers.Dense(units=2, activation='relu', input_shape=(1,)))\n",
        "#For ANN we use Dense layer\n",
        "\n",
        "model.add(tf.keras.layers.Dense(units=1, activation='linear'))\n"
      ],
      "execution_count": null,
      "outputs": []
    },
    {
      "cell_type": "code",
      "metadata": {
        "colab": {
          "base_uri": "https://localhost:8080/"
        },
        "id": "5UMDIwzkKt9X",
        "outputId": "abc675e8-12d5-470c-89fe-05fd15704cd3"
      },
      "source": [
        "\n",
        "model.summary()"
      ],
      "execution_count": null,
      "outputs": [
        {
          "output_type": "stream",
          "text": [
            "Model: \"sequential\"\n",
            "_________________________________________________________________\n",
            "Layer (type)                 Output Shape              Param #   \n",
            "=================================================================\n",
            "dense (Dense)                (None, 2)                 4         \n",
            "_________________________________________________________________\n",
            "dense_1 (Dense)              (None, 1)                 3         \n",
            "=================================================================\n",
            "Total params: 7\n",
            "Trainable params: 7\n",
            "Non-trainable params: 0\n",
            "_________________________________________________________________\n"
          ],
          "name": "stdout"
        }
      ]
    },
    {
      "cell_type": "code",
      "metadata": {
        "id": "WjWzzyiuK83F"
      },
      "source": [
        "#Compile model\n",
        "# optimizer = \n",
        "# loss = \n",
        "# metric = accuracy R2\n",
        "model.compile(optimizer='Adam', loss='mean_squared_error', metrics=['accuracy'])"
      ],
      "execution_count": null,
      "outputs": []
    },
    {
      "cell_type": "code",
      "metadata": {
        "colab": {
          "base_uri": "https://localhost:8080/"
        },
        "id": "Ti1aT23ULyHR",
        "outputId": "222b94c3-5f3d-46be-ab4d-c2ef26745a96"
      },
      "source": [
        "#Fit model\n",
        "model.fit(X_train,\n",
        "          y_train,\n",
        "          epochs =100,\n",
        "          validation_data=(X_test, y_test))"
      ],
      "execution_count": null,
      "outputs": [
        {
          "output_type": "stream",
          "text": [
            "Epoch 1/100\n",
            "1/1 [==============================] - 0s 132ms/step - loss: 1.8864 - accuracy: 0.0000e+00 - val_loss: 0.7839 - val_accuracy: 0.0000e+00\n",
            "Epoch 2/100\n",
            "1/1 [==============================] - 0s 17ms/step - loss: 1.8779 - accuracy: 0.0000e+00 - val_loss: 0.7805 - val_accuracy: 0.0000e+00\n",
            "Epoch 3/100\n",
            "1/1 [==============================] - 0s 17ms/step - loss: 1.8694 - accuracy: 0.0000e+00 - val_loss: 0.7771 - val_accuracy: 0.0000e+00\n",
            "Epoch 4/100\n",
            "1/1 [==============================] - 0s 17ms/step - loss: 1.8609 - accuracy: 0.0000e+00 - val_loss: 0.7737 - val_accuracy: 0.0000e+00\n",
            "Epoch 5/100\n",
            "1/1 [==============================] - 0s 17ms/step - loss: 1.8524 - accuracy: 0.0000e+00 - val_loss: 0.7703 - val_accuracy: 0.0000e+00\n",
            "Epoch 6/100\n",
            "1/1 [==============================] - 0s 17ms/step - loss: 1.8440 - accuracy: 0.0000e+00 - val_loss: 0.7669 - val_accuracy: 0.0000e+00\n",
            "Epoch 7/100\n",
            "1/1 [==============================] - 0s 17ms/step - loss: 1.8356 - accuracy: 0.0000e+00 - val_loss: 0.7634 - val_accuracy: 0.0000e+00\n",
            "Epoch 8/100\n",
            "1/1 [==============================] - 0s 17ms/step - loss: 1.8273 - accuracy: 0.0000e+00 - val_loss: 0.7600 - val_accuracy: 0.0000e+00\n",
            "Epoch 9/100\n",
            "1/1 [==============================] - 0s 23ms/step - loss: 1.8190 - accuracy: 0.0000e+00 - val_loss: 0.7565 - val_accuracy: 0.0000e+00\n",
            "Epoch 10/100\n",
            "1/1 [==============================] - 0s 18ms/step - loss: 1.8107 - accuracy: 0.0000e+00 - val_loss: 0.7531 - val_accuracy: 0.0000e+00\n",
            "Epoch 11/100\n",
            "1/1 [==============================] - 0s 19ms/step - loss: 1.8024 - accuracy: 0.0000e+00 - val_loss: 0.7497 - val_accuracy: 0.0000e+00\n",
            "Epoch 12/100\n",
            "1/1 [==============================] - 0s 19ms/step - loss: 1.7942 - accuracy: 0.0000e+00 - val_loss: 0.7463 - val_accuracy: 0.0000e+00\n",
            "Epoch 13/100\n",
            "1/1 [==============================] - 0s 17ms/step - loss: 1.7860 - accuracy: 0.0000e+00 - val_loss: 0.7429 - val_accuracy: 0.0000e+00\n",
            "Epoch 14/100\n",
            "1/1 [==============================] - 0s 18ms/step - loss: 1.7779 - accuracy: 0.0000e+00 - val_loss: 0.7396 - val_accuracy: 0.0000e+00\n",
            "Epoch 15/100\n",
            "1/1 [==============================] - 0s 18ms/step - loss: 1.7697 - accuracy: 0.0000e+00 - val_loss: 0.7362 - val_accuracy: 0.0000e+00\n",
            "Epoch 16/100\n",
            "1/1 [==============================] - 0s 18ms/step - loss: 1.7617 - accuracy: 0.0000e+00 - val_loss: 0.7329 - val_accuracy: 0.0000e+00\n",
            "Epoch 17/100\n",
            "1/1 [==============================] - 0s 18ms/step - loss: 1.7536 - accuracy: 0.0000e+00 - val_loss: 0.7295 - val_accuracy: 0.0000e+00\n",
            "Epoch 18/100\n",
            "1/1 [==============================] - 0s 17ms/step - loss: 1.7456 - accuracy: 0.0000e+00 - val_loss: 0.7262 - val_accuracy: 0.0000e+00\n",
            "Epoch 19/100\n",
            "1/1 [==============================] - 0s 19ms/step - loss: 1.7376 - accuracy: 0.0000e+00 - val_loss: 0.7230 - val_accuracy: 0.0000e+00\n",
            "Epoch 20/100\n",
            "1/1 [==============================] - 0s 18ms/step - loss: 1.7297 - accuracy: 0.0000e+00 - val_loss: 0.7197 - val_accuracy: 0.0000e+00\n",
            "Epoch 21/100\n",
            "1/1 [==============================] - 0s 17ms/step - loss: 1.7217 - accuracy: 0.0000e+00 - val_loss: 0.7164 - val_accuracy: 0.0000e+00\n",
            "Epoch 22/100\n",
            "1/1 [==============================] - 0s 17ms/step - loss: 1.7139 - accuracy: 0.0000e+00 - val_loss: 0.7132 - val_accuracy: 0.0000e+00\n",
            "Epoch 23/100\n",
            "1/1 [==============================] - 0s 17ms/step - loss: 1.7060 - accuracy: 0.0000e+00 - val_loss: 0.7100 - val_accuracy: 0.0000e+00\n",
            "Epoch 24/100\n",
            "1/1 [==============================] - 0s 18ms/step - loss: 1.6982 - accuracy: 0.0000e+00 - val_loss: 0.7067 - val_accuracy: 0.0000e+00\n",
            "Epoch 25/100\n",
            "1/1 [==============================] - 0s 18ms/step - loss: 1.6905 - accuracy: 0.0000e+00 - val_loss: 0.7035 - val_accuracy: 0.0000e+00\n",
            "Epoch 26/100\n",
            "1/1 [==============================] - 0s 22ms/step - loss: 1.6827 - accuracy: 0.0000e+00 - val_loss: 0.7004 - val_accuracy: 0.0000e+00\n",
            "Epoch 27/100\n",
            "1/1 [==============================] - 0s 18ms/step - loss: 1.6750 - accuracy: 0.0000e+00 - val_loss: 0.6972 - val_accuracy: 0.0000e+00\n",
            "Epoch 28/100\n",
            "1/1 [==============================] - 0s 19ms/step - loss: 1.6674 - accuracy: 0.0000e+00 - val_loss: 0.6941 - val_accuracy: 0.0000e+00\n",
            "Epoch 29/100\n",
            "1/1 [==============================] - 0s 19ms/step - loss: 1.6598 - accuracy: 0.0000e+00 - val_loss: 0.6909 - val_accuracy: 0.0000e+00\n",
            "Epoch 30/100\n",
            "1/1 [==============================] - 0s 21ms/step - loss: 1.6522 - accuracy: 0.0000e+00 - val_loss: 0.6878 - val_accuracy: 0.0000e+00\n",
            "Epoch 31/100\n",
            "1/1 [==============================] - 0s 17ms/step - loss: 1.6446 - accuracy: 0.0000e+00 - val_loss: 0.6847 - val_accuracy: 0.0000e+00\n",
            "Epoch 32/100\n",
            "1/1 [==============================] - 0s 24ms/step - loss: 1.6371 - accuracy: 0.0000e+00 - val_loss: 0.6816 - val_accuracy: 0.0000e+00\n",
            "Epoch 33/100\n",
            "1/1 [==============================] - 0s 24ms/step - loss: 1.6296 - accuracy: 0.0000e+00 - val_loss: 0.6785 - val_accuracy: 0.0000e+00\n",
            "Epoch 34/100\n",
            "1/1 [==============================] - 0s 21ms/step - loss: 1.6222 - accuracy: 0.0000e+00 - val_loss: 0.6755 - val_accuracy: 0.0000e+00\n",
            "Epoch 35/100\n",
            "1/1 [==============================] - 0s 18ms/step - loss: 1.6148 - accuracy: 0.0000e+00 - val_loss: 0.6725 - val_accuracy: 0.0000e+00\n",
            "Epoch 36/100\n",
            "1/1 [==============================] - 0s 18ms/step - loss: 1.6074 - accuracy: 0.0000e+00 - val_loss: 0.6694 - val_accuracy: 0.0000e+00\n",
            "Epoch 37/100\n",
            "1/1 [==============================] - 0s 18ms/step - loss: 1.6001 - accuracy: 0.0000e+00 - val_loss: 0.6664 - val_accuracy: 0.0000e+00\n",
            "Epoch 38/100\n",
            "1/1 [==============================] - 0s 19ms/step - loss: 1.5928 - accuracy: 0.0000e+00 - val_loss: 0.6634 - val_accuracy: 0.0000e+00\n",
            "Epoch 39/100\n",
            "1/1 [==============================] - 0s 18ms/step - loss: 1.5855 - accuracy: 0.0000e+00 - val_loss: 0.6605 - val_accuracy: 0.0000e+00\n",
            "Epoch 40/100\n",
            "1/1 [==============================] - 0s 20ms/step - loss: 1.5783 - accuracy: 0.0000e+00 - val_loss: 0.6575 - val_accuracy: 0.0000e+00\n",
            "Epoch 41/100\n",
            "1/1 [==============================] - 0s 20ms/step - loss: 1.5711 - accuracy: 0.0000e+00 - val_loss: 0.6545 - val_accuracy: 0.0000e+00\n",
            "Epoch 42/100\n",
            "1/1 [==============================] - 0s 17ms/step - loss: 1.5640 - accuracy: 0.0000e+00 - val_loss: 0.6516 - val_accuracy: 0.0000e+00\n",
            "Epoch 43/100\n",
            "1/1 [==============================] - 0s 18ms/step - loss: 1.5569 - accuracy: 0.0000e+00 - val_loss: 0.6487 - val_accuracy: 0.0000e+00\n",
            "Epoch 44/100\n",
            "1/1 [==============================] - 0s 18ms/step - loss: 1.5498 - accuracy: 0.0000e+00 - val_loss: 0.6458 - val_accuracy: 0.0000e+00\n",
            "Epoch 45/100\n",
            "1/1 [==============================] - 0s 22ms/step - loss: 1.5428 - accuracy: 0.0000e+00 - val_loss: 0.6429 - val_accuracy: 0.0000e+00\n",
            "Epoch 46/100\n",
            "1/1 [==============================] - 0s 20ms/step - loss: 1.5357 - accuracy: 0.0000e+00 - val_loss: 0.6401 - val_accuracy: 0.0000e+00\n",
            "Epoch 47/100\n",
            "1/1 [==============================] - 0s 21ms/step - loss: 1.5288 - accuracy: 0.0000e+00 - val_loss: 0.6372 - val_accuracy: 0.0000e+00\n",
            "Epoch 48/100\n",
            "1/1 [==============================] - 0s 19ms/step - loss: 1.5218 - accuracy: 0.0000e+00 - val_loss: 0.6344 - val_accuracy: 0.0000e+00\n",
            "Epoch 49/100\n",
            "1/1 [==============================] - 0s 20ms/step - loss: 1.5149 - accuracy: 0.0000e+00 - val_loss: 0.6315 - val_accuracy: 0.0000e+00\n",
            "Epoch 50/100\n",
            "1/1 [==============================] - 0s 23ms/step - loss: 1.5081 - accuracy: 0.0000e+00 - val_loss: 0.6287 - val_accuracy: 0.0000e+00\n",
            "Epoch 51/100\n",
            "1/1 [==============================] - 0s 21ms/step - loss: 1.5012 - accuracy: 0.0000e+00 - val_loss: 0.6259 - val_accuracy: 0.0000e+00\n",
            "Epoch 52/100\n",
            "1/1 [==============================] - 0s 18ms/step - loss: 1.4944 - accuracy: 0.0000e+00 - val_loss: 0.6232 - val_accuracy: 0.0000e+00\n",
            "Epoch 53/100\n",
            "1/1 [==============================] - 0s 19ms/step - loss: 1.4877 - accuracy: 0.0000e+00 - val_loss: 0.6204 - val_accuracy: 0.0000e+00\n",
            "Epoch 54/100\n",
            "1/1 [==============================] - 0s 22ms/step - loss: 1.4810 - accuracy: 0.0000e+00 - val_loss: 0.6176 - val_accuracy: 0.0000e+00\n",
            "Epoch 55/100\n",
            "1/1 [==============================] - 0s 18ms/step - loss: 1.4743 - accuracy: 0.0000e+00 - val_loss: 0.6149 - val_accuracy: 0.0000e+00\n",
            "Epoch 56/100\n",
            "1/1 [==============================] - 0s 18ms/step - loss: 1.4676 - accuracy: 0.0000e+00 - val_loss: 0.6122 - val_accuracy: 0.0000e+00\n",
            "Epoch 57/100\n",
            "1/1 [==============================] - 0s 18ms/step - loss: 1.4610 - accuracy: 0.0000e+00 - val_loss: 0.6095 - val_accuracy: 0.0000e+00\n",
            "Epoch 58/100\n",
            "1/1 [==============================] - 0s 17ms/step - loss: 1.4544 - accuracy: 0.0000e+00 - val_loss: 0.6068 - val_accuracy: 0.0000e+00\n",
            "Epoch 59/100\n",
            "1/1 [==============================] - 0s 19ms/step - loss: 1.4478 - accuracy: 0.0000e+00 - val_loss: 0.6041 - val_accuracy: 0.0000e+00\n",
            "Epoch 60/100\n",
            "1/1 [==============================] - 0s 21ms/step - loss: 1.4413 - accuracy: 0.0000e+00 - val_loss: 0.6014 - val_accuracy: 0.0000e+00\n",
            "Epoch 61/100\n",
            "1/1 [==============================] - 0s 19ms/step - loss: 1.4348 - accuracy: 0.0000e+00 - val_loss: 0.5988 - val_accuracy: 0.0000e+00\n",
            "Epoch 62/100\n",
            "1/1 [==============================] - 0s 19ms/step - loss: 1.4283 - accuracy: 0.0000e+00 - val_loss: 0.5962 - val_accuracy: 0.0000e+00\n",
            "Epoch 63/100\n",
            "1/1 [==============================] - 0s 21ms/step - loss: 1.4219 - accuracy: 0.0000e+00 - val_loss: 0.5935 - val_accuracy: 0.0000e+00\n",
            "Epoch 64/100\n",
            "1/1 [==============================] - 0s 19ms/step - loss: 1.4155 - accuracy: 0.0000e+00 - val_loss: 0.5909 - val_accuracy: 0.0000e+00\n",
            "Epoch 65/100\n",
            "1/1 [==============================] - 0s 19ms/step - loss: 1.4092 - accuracy: 0.0000e+00 - val_loss: 0.5883 - val_accuracy: 0.0000e+00\n",
            "Epoch 66/100\n",
            "1/1 [==============================] - 0s 20ms/step - loss: 1.4028 - accuracy: 0.0000e+00 - val_loss: 0.5857 - val_accuracy: 0.0000e+00\n",
            "Epoch 67/100\n",
            "1/1 [==============================] - 0s 19ms/step - loss: 1.3965 - accuracy: 0.0000e+00 - val_loss: 0.5832 - val_accuracy: 0.0000e+00\n",
            "Epoch 68/100\n",
            "1/1 [==============================] - 0s 20ms/step - loss: 1.3903 - accuracy: 0.0000e+00 - val_loss: 0.5806 - val_accuracy: 0.0000e+00\n",
            "Epoch 69/100\n",
            "1/1 [==============================] - 0s 20ms/step - loss: 1.3840 - accuracy: 0.0000e+00 - val_loss: 0.5781 - val_accuracy: 0.0000e+00\n",
            "Epoch 70/100\n",
            "1/1 [==============================] - 0s 18ms/step - loss: 1.3778 - accuracy: 0.0000e+00 - val_loss: 0.5756 - val_accuracy: 0.0000e+00\n",
            "Epoch 71/100\n",
            "1/1 [==============================] - 0s 21ms/step - loss: 1.3717 - accuracy: 0.0000e+00 - val_loss: 0.5730 - val_accuracy: 0.0000e+00\n",
            "Epoch 72/100\n",
            "1/1 [==============================] - 0s 21ms/step - loss: 1.3655 - accuracy: 0.0000e+00 - val_loss: 0.5705 - val_accuracy: 0.0000e+00\n",
            "Epoch 73/100\n",
            "1/1 [==============================] - 0s 22ms/step - loss: 1.3594 - accuracy: 0.0000e+00 - val_loss: 0.5681 - val_accuracy: 0.0000e+00\n",
            "Epoch 74/100\n",
            "1/1 [==============================] - 0s 20ms/step - loss: 1.3534 - accuracy: 0.0000e+00 - val_loss: 0.5656 - val_accuracy: 0.0000e+00\n",
            "Epoch 75/100\n",
            "1/1 [==============================] - 0s 20ms/step - loss: 1.3473 - accuracy: 0.0000e+00 - val_loss: 0.5631 - val_accuracy: 0.0000e+00\n",
            "Epoch 76/100\n",
            "1/1 [==============================] - 0s 20ms/step - loss: 1.3413 - accuracy: 0.0000e+00 - val_loss: 0.5607 - val_accuracy: 0.0000e+00\n",
            "Epoch 77/100\n",
            "1/1 [==============================] - 0s 19ms/step - loss: 1.3353 - accuracy: 0.0000e+00 - val_loss: 0.5582 - val_accuracy: 0.0000e+00\n",
            "Epoch 78/100\n",
            "1/1 [==============================] - 0s 19ms/step - loss: 1.3294 - accuracy: 0.0000e+00 - val_loss: 0.5558 - val_accuracy: 0.0000e+00\n",
            "Epoch 79/100\n",
            "1/1 [==============================] - 0s 20ms/step - loss: 1.3234 - accuracy: 0.0000e+00 - val_loss: 0.5534 - val_accuracy: 0.0000e+00\n",
            "Epoch 80/100\n",
            "1/1 [==============================] - 0s 19ms/step - loss: 1.3175 - accuracy: 0.0000e+00 - val_loss: 0.5510 - val_accuracy: 0.0000e+00\n",
            "Epoch 81/100\n",
            "1/1 [==============================] - 0s 19ms/step - loss: 1.3117 - accuracy: 0.0000e+00 - val_loss: 0.5486 - val_accuracy: 0.0000e+00\n",
            "Epoch 82/100\n",
            "1/1 [==============================] - 0s 20ms/step - loss: 1.3059 - accuracy: 0.0000e+00 - val_loss: 0.5462 - val_accuracy: 0.0000e+00\n",
            "Epoch 83/100\n",
            "1/1 [==============================] - 0s 21ms/step - loss: 1.3001 - accuracy: 0.0000e+00 - val_loss: 0.5439 - val_accuracy: 0.0000e+00\n",
            "Epoch 84/100\n",
            "1/1 [==============================] - 0s 21ms/step - loss: 1.2943 - accuracy: 0.0000e+00 - val_loss: 0.5415 - val_accuracy: 0.0000e+00\n",
            "Epoch 85/100\n",
            "1/1 [==============================] - 0s 19ms/step - loss: 1.2885 - accuracy: 0.0000e+00 - val_loss: 0.5392 - val_accuracy: 0.0000e+00\n",
            "Epoch 86/100\n",
            "1/1 [==============================] - 0s 18ms/step - loss: 1.2828 - accuracy: 0.0000e+00 - val_loss: 0.5369 - val_accuracy: 0.0000e+00\n",
            "Epoch 87/100\n",
            "1/1 [==============================] - 0s 19ms/step - loss: 1.2771 - accuracy: 0.0000e+00 - val_loss: 0.5346 - val_accuracy: 0.0000e+00\n",
            "Epoch 88/100\n",
            "1/1 [==============================] - 0s 19ms/step - loss: 1.2714 - accuracy: 0.0000e+00 - val_loss: 0.5323 - val_accuracy: 0.0000e+00\n",
            "Epoch 89/100\n",
            "1/1 [==============================] - 0s 24ms/step - loss: 1.2658 - accuracy: 0.0000e+00 - val_loss: 0.5300 - val_accuracy: 0.0000e+00\n",
            "Epoch 90/100\n",
            "1/1 [==============================] - 0s 26ms/step - loss: 1.2602 - accuracy: 0.0000e+00 - val_loss: 0.5277 - val_accuracy: 0.0000e+00\n",
            "Epoch 91/100\n",
            "1/1 [==============================] - 0s 24ms/step - loss: 1.2546 - accuracy: 0.0000e+00 - val_loss: 0.5254 - val_accuracy: 0.0000e+00\n",
            "Epoch 92/100\n",
            "1/1 [==============================] - 0s 21ms/step - loss: 1.2490 - accuracy: 0.0000e+00 - val_loss: 0.5232 - val_accuracy: 0.0000e+00\n",
            "Epoch 93/100\n",
            "1/1 [==============================] - 0s 20ms/step - loss: 1.2435 - accuracy: 0.0000e+00 - val_loss: 0.5209 - val_accuracy: 0.0000e+00\n",
            "Epoch 94/100\n",
            "1/1 [==============================] - 0s 18ms/step - loss: 1.2380 - accuracy: 0.0000e+00 - val_loss: 0.5187 - val_accuracy: 0.0000e+00\n",
            "Epoch 95/100\n",
            "1/1 [==============================] - 0s 17ms/step - loss: 1.2325 - accuracy: 0.0000e+00 - val_loss: 0.5164 - val_accuracy: 0.0000e+00\n",
            "Epoch 96/100\n",
            "1/1 [==============================] - 0s 19ms/step - loss: 1.2271 - accuracy: 0.0000e+00 - val_loss: 0.5142 - val_accuracy: 0.0000e+00\n",
            "Epoch 97/100\n",
            "1/1 [==============================] - 0s 20ms/step - loss: 1.2217 - accuracy: 0.0000e+00 - val_loss: 0.5120 - val_accuracy: 0.0000e+00\n",
            "Epoch 98/100\n",
            "1/1 [==============================] - 0s 26ms/step - loss: 1.2163 - accuracy: 0.0000e+00 - val_loss: 0.5098 - val_accuracy: 0.0000e+00\n",
            "Epoch 99/100\n",
            "1/1 [==============================] - 0s 23ms/step - loss: 1.2109 - accuracy: 0.0000e+00 - val_loss: 0.5077 - val_accuracy: 0.0000e+00\n",
            "Epoch 100/100\n",
            "1/1 [==============================] - 0s 20ms/step - loss: 1.2055 - accuracy: 0.0000e+00 - val_loss: 0.5055 - val_accuracy: 0.0000e+00\n"
          ],
          "name": "stdout"
        },
        {
          "output_type": "execute_result",
          "data": {
            "text/plain": [
              "<tensorflow.python.keras.callbacks.History at 0x7fbfbdac0668>"
            ]
          },
          "metadata": {
            "tags": []
          },
          "execution_count": 25
        }
      ]
    },
    {
      "cell_type": "code",
      "metadata": {
        "id": "2kIFeDtvMHO7"
      },
      "source": [
        "#Challenge faced:  Accuracy metric shows up as 0\n",
        "# Accuracy metric used by kears is meant for classification and not regression\n",
        "# Solution: Implement R2 Score function manually and make this function compatible for tensorflow ops\n"
      ],
      "execution_count": null,
      "outputs": []
    },
    {
      "cell_type": "code",
      "metadata": {
        "id": "XEMyg_aJNXqs"
      },
      "source": [
        "#Implement R2 Score\n",
        "# Formula sqrt(sum(y-y')2)\n",
        "\n",
        "def r2_keras_custom(y_true, y_pred):\n",
        "  sumResiduals = tf.keras.backend.sum(tf.keras.backend.square(y_true - y_pred))\n",
        "  sumTotals = tf.keras.backend.sum(tf.keras.backend.square(y_true - tf.keras.backend.mean(y_true)))\n",
        "\n",
        "  return (1 - sumResiduals / (sumTotals + tf.keras.backend.epsilon()))"
      ],
      "execution_count": null,
      "outputs": []
    },
    {
      "cell_type": "code",
      "metadata": {
        "id": "feU8-l6iOBZr"
      },
      "source": [
        "#Recompiling model with R2 model\n",
        "model.compile(optimizer='Adam', loss='mean_squared_error', metrics=[r2_keras_custom])"
      ],
      "execution_count": null,
      "outputs": []
    },
    {
      "cell_type": "code",
      "metadata": {
        "colab": {
          "base_uri": "https://localhost:8080/"
        },
        "id": "uhaCyMUCO9Ja",
        "outputId": "8b862f11-b3da-4a44-a132-7a33a58b4289"
      },
      "source": [
        "model.fit(X_train,\n",
        "          y_train,\n",
        "          epochs =100,\n",
        "          validation_data=(X_test, y_test))"
      ],
      "execution_count": null,
      "outputs": [
        {
          "output_type": "stream",
          "text": [
            "Epoch 1/100\n",
            "1/1 [==============================] - 0s 111ms/step - loss: 1.2002 - r2_keras_custom: -10.1890 - val_loss: 0.5030 - val_r2_keras_custom: -5.9565\n",
            "Epoch 2/100\n",
            "1/1 [==============================] - 0s 18ms/step - loss: 1.1941 - r2_keras_custom: -10.1321 - val_loss: 0.5005 - val_r2_keras_custom: -5.9222\n",
            "Epoch 3/100\n",
            "1/1 [==============================] - 0s 17ms/step - loss: 1.1881 - r2_keras_custom: -10.0755 - val_loss: 0.4981 - val_r2_keras_custom: -5.8881\n",
            "Epoch 4/100\n",
            "1/1 [==============================] - 0s 19ms/step - loss: 1.1820 - r2_keras_custom: -10.0192 - val_loss: 0.4956 - val_r2_keras_custom: -5.8540\n",
            "Epoch 5/100\n",
            "1/1 [==============================] - 0s 19ms/step - loss: 1.1760 - r2_keras_custom: -9.9630 - val_loss: 0.4931 - val_r2_keras_custom: -5.8202\n",
            "Epoch 6/100\n",
            "1/1 [==============================] - 0s 19ms/step - loss: 1.1700 - r2_keras_custom: -9.9071 - val_loss: 0.4907 - val_r2_keras_custom: -5.7865\n",
            "Epoch 7/100\n",
            "1/1 [==============================] - 0s 17ms/step - loss: 1.1640 - r2_keras_custom: -9.8514 - val_loss: 0.4883 - val_r2_keras_custom: -5.7529\n",
            "Epoch 8/100\n",
            "1/1 [==============================] - 0s 17ms/step - loss: 1.1581 - r2_keras_custom: -9.7960 - val_loss: 0.4859 - val_r2_keras_custom: -5.7195\n",
            "Epoch 9/100\n",
            "1/1 [==============================] - 0s 18ms/step - loss: 1.1522 - r2_keras_custom: -9.7408 - val_loss: 0.4835 - val_r2_keras_custom: -5.6862\n",
            "Epoch 10/100\n",
            "1/1 [==============================] - 0s 19ms/step - loss: 1.1463 - r2_keras_custom: -9.6858 - val_loss: 0.4811 - val_r2_keras_custom: -5.6531\n",
            "Epoch 11/100\n",
            "1/1 [==============================] - 0s 18ms/step - loss: 1.1404 - r2_keras_custom: -9.6311 - val_loss: 0.4787 - val_r2_keras_custom: -5.6202\n",
            "Epoch 12/100\n",
            "1/1 [==============================] - 0s 19ms/step - loss: 1.1345 - r2_keras_custom: -9.5767 - val_loss: 0.4763 - val_r2_keras_custom: -5.5874\n",
            "Epoch 13/100\n",
            "1/1 [==============================] - 0s 17ms/step - loss: 1.1287 - r2_keras_custom: -9.5225 - val_loss: 0.4740 - val_r2_keras_custom: -5.5548\n",
            "Epoch 14/100\n",
            "1/1 [==============================] - 0s 19ms/step - loss: 1.1229 - r2_keras_custom: -9.4685 - val_loss: 0.4716 - val_r2_keras_custom: -5.5223\n",
            "Epoch 15/100\n",
            "1/1 [==============================] - 0s 18ms/step - loss: 1.1172 - r2_keras_custom: -9.4148 - val_loss: 0.4693 - val_r2_keras_custom: -5.4900\n",
            "Epoch 16/100\n",
            "1/1 [==============================] - 0s 18ms/step - loss: 1.1115 - r2_keras_custom: -9.3614 - val_loss: 0.4669 - val_r2_keras_custom: -5.4578\n",
            "Epoch 17/100\n",
            "1/1 [==============================] - 0s 18ms/step - loss: 1.1057 - r2_keras_custom: -9.3082 - val_loss: 0.4646 - val_r2_keras_custom: -5.4258\n",
            "Epoch 18/100\n",
            "1/1 [==============================] - 0s 19ms/step - loss: 1.1001 - r2_keras_custom: -9.2553 - val_loss: 0.4623 - val_r2_keras_custom: -5.3940\n",
            "Epoch 19/100\n",
            "1/1 [==============================] - 0s 20ms/step - loss: 1.0944 - r2_keras_custom: -9.2026 - val_loss: 0.4600 - val_r2_keras_custom: -5.3623\n",
            "Epoch 20/100\n",
            "1/1 [==============================] - 0s 20ms/step - loss: 1.0888 - r2_keras_custom: -9.1502 - val_loss: 0.4578 - val_r2_keras_custom: -5.3308\n",
            "Epoch 21/100\n",
            "1/1 [==============================] - 0s 21ms/step - loss: 1.0832 - r2_keras_custom: -9.0981 - val_loss: 0.4555 - val_r2_keras_custom: -5.2995\n",
            "Epoch 22/100\n",
            "1/1 [==============================] - 0s 22ms/step - loss: 1.0776 - r2_keras_custom: -9.0462 - val_loss: 0.4532 - val_r2_keras_custom: -5.2683\n",
            "Epoch 23/100\n",
            "1/1 [==============================] - 0s 20ms/step - loss: 1.0721 - r2_keras_custom: -8.9946 - val_loss: 0.4510 - val_r2_keras_custom: -5.2373\n",
            "Epoch 24/100\n",
            "1/1 [==============================] - 0s 19ms/step - loss: 1.0666 - r2_keras_custom: -8.9433 - val_loss: 0.4488 - val_r2_keras_custom: -5.2064\n",
            "Epoch 25/100\n",
            "1/1 [==============================] - 0s 19ms/step - loss: 1.0611 - r2_keras_custom: -8.8923 - val_loss: 0.4465 - val_r2_keras_custom: -5.1758\n",
            "Epoch 26/100\n",
            "1/1 [==============================] - 0s 19ms/step - loss: 1.0557 - r2_keras_custom: -8.8415 - val_loss: 0.4443 - val_r2_keras_custom: -5.1452\n",
            "Epoch 27/100\n",
            "1/1 [==============================] - 0s 19ms/step - loss: 1.0503 - r2_keras_custom: -8.7909 - val_loss: 0.4421 - val_r2_keras_custom: -5.1149\n",
            "Epoch 28/100\n",
            "1/1 [==============================] - 0s 19ms/step - loss: 1.0449 - r2_keras_custom: -8.7407 - val_loss: 0.4400 - val_r2_keras_custom: -5.0847\n",
            "Epoch 29/100\n",
            "1/1 [==============================] - 0s 18ms/step - loss: 1.0395 - r2_keras_custom: -8.6907 - val_loss: 0.4378 - val_r2_keras_custom: -5.0547\n",
            "Epoch 30/100\n",
            "1/1 [==============================] - 0s 19ms/step - loss: 1.0342 - r2_keras_custom: -8.6410 - val_loss: 0.4356 - val_r2_keras_custom: -5.0249\n",
            "Epoch 31/100\n",
            "1/1 [==============================] - 0s 20ms/step - loss: 1.0289 - r2_keras_custom: -8.5916 - val_loss: 0.4335 - val_r2_keras_custom: -4.9952\n",
            "Epoch 32/100\n",
            "1/1 [==============================] - 0s 21ms/step - loss: 1.0236 - r2_keras_custom: -8.5424 - val_loss: 0.4314 - val_r2_keras_custom: -4.9657\n",
            "Epoch 33/100\n",
            "1/1 [==============================] - 0s 18ms/step - loss: 1.0184 - r2_keras_custom: -8.4935 - val_loss: 0.4292 - val_r2_keras_custom: -4.9363\n",
            "Epoch 34/100\n",
            "1/1 [==============================] - 0s 18ms/step - loss: 1.0131 - r2_keras_custom: -8.4449 - val_loss: 0.4271 - val_r2_keras_custom: -4.9072\n",
            "Epoch 35/100\n",
            "1/1 [==============================] - 0s 19ms/step - loss: 1.0080 - r2_keras_custom: -8.3965 - val_loss: 0.4250 - val_r2_keras_custom: -4.8782\n",
            "Epoch 36/100\n",
            "1/1 [==============================] - 0s 17ms/step - loss: 1.0028 - r2_keras_custom: -8.3485 - val_loss: 0.4229 - val_r2_keras_custom: -4.8493\n",
            "Epoch 37/100\n",
            "1/1 [==============================] - 0s 18ms/step - loss: 0.9977 - r2_keras_custom: -8.3006 - val_loss: 0.4209 - val_r2_keras_custom: -4.8206\n",
            "Epoch 38/100\n",
            "1/1 [==============================] - 0s 20ms/step - loss: 0.9926 - r2_keras_custom: -8.2531 - val_loss: 0.4188 - val_r2_keras_custom: -4.7921\n",
            "Epoch 39/100\n",
            "1/1 [==============================] - 0s 19ms/step - loss: 0.9875 - r2_keras_custom: -8.2058 - val_loss: 0.4168 - val_r2_keras_custom: -4.7637\n",
            "Epoch 40/100\n",
            "1/1 [==============================] - 0s 18ms/step - loss: 0.9825 - r2_keras_custom: -8.1588 - val_loss: 0.4147 - val_r2_keras_custom: -4.7356\n",
            "Epoch 41/100\n",
            "1/1 [==============================] - 0s 21ms/step - loss: 0.9774 - r2_keras_custom: -8.1121 - val_loss: 0.4127 - val_r2_keras_custom: -4.7075\n",
            "Epoch 42/100\n",
            "1/1 [==============================] - 0s 22ms/step - loss: 0.9725 - r2_keras_custom: -8.0656 - val_loss: 0.4107 - val_r2_keras_custom: -4.6797\n",
            "Epoch 43/100\n",
            "1/1 [==============================] - 0s 19ms/step - loss: 0.9675 - r2_keras_custom: -8.0194 - val_loss: 0.4087 - val_r2_keras_custom: -4.6519\n",
            "Epoch 44/100\n",
            "1/1 [==============================] - 0s 17ms/step - loss: 0.9626 - r2_keras_custom: -7.9734 - val_loss: 0.4067 - val_r2_keras_custom: -4.6244\n",
            "Epoch 45/100\n",
            "1/1 [==============================] - 0s 20ms/step - loss: 0.9577 - r2_keras_custom: -7.9277 - val_loss: 0.4047 - val_r2_keras_custom: -4.5970\n",
            "Epoch 46/100\n",
            "1/1 [==============================] - 0s 19ms/step - loss: 0.9528 - r2_keras_custom: -7.8823 - val_loss: 0.4027 - val_r2_keras_custom: -4.5698\n",
            "Epoch 47/100\n",
            "1/1 [==============================] - 0s 20ms/step - loss: 0.9479 - r2_keras_custom: -7.8371 - val_loss: 0.4008 - val_r2_keras_custom: -4.5427\n",
            "Epoch 48/100\n",
            "1/1 [==============================] - 0s 21ms/step - loss: 0.9431 - r2_keras_custom: -7.7922 - val_loss: 0.3988 - val_r2_keras_custom: -4.5158\n",
            "Epoch 49/100\n",
            "1/1 [==============================] - 0s 17ms/step - loss: 0.9384 - r2_keras_custom: -7.7477 - val_loss: 0.3969 - val_r2_keras_custom: -4.4891\n",
            "Epoch 50/100\n",
            "1/1 [==============================] - 0s 19ms/step - loss: 0.9336 - r2_keras_custom: -7.7037 - val_loss: 0.3950 - val_r2_keras_custom: -4.4625\n",
            "Epoch 51/100\n",
            "1/1 [==============================] - 0s 19ms/step - loss: 0.9289 - r2_keras_custom: -7.6599 - val_loss: 0.3931 - val_r2_keras_custom: -4.4361\n",
            "Epoch 52/100\n",
            "1/1 [==============================] - 0s 20ms/step - loss: 0.9243 - r2_keras_custom: -7.6164 - val_loss: 0.3912 - val_r2_keras_custom: -4.4099\n",
            "Epoch 53/100\n",
            "1/1 [==============================] - 0s 18ms/step - loss: 0.9196 - r2_keras_custom: -7.5732 - val_loss: 0.3893 - val_r2_keras_custom: -4.3838\n",
            "Epoch 54/100\n",
            "1/1 [==============================] - 0s 18ms/step - loss: 0.9150 - r2_keras_custom: -7.5302 - val_loss: 0.3874 - val_r2_keras_custom: -4.3579\n",
            "Epoch 55/100\n",
            "1/1 [==============================] - 0s 22ms/step - loss: 0.9104 - r2_keras_custom: -7.4875 - val_loss: 0.3855 - val_r2_keras_custom: -4.3321\n",
            "Epoch 56/100\n",
            "1/1 [==============================] - 0s 22ms/step - loss: 0.9059 - r2_keras_custom: -7.4449 - val_loss: 0.3837 - val_r2_keras_custom: -4.3065\n",
            "Epoch 57/100\n",
            "1/1 [==============================] - 0s 23ms/step - loss: 0.9013 - r2_keras_custom: -7.4026 - val_loss: 0.3818 - val_r2_keras_custom: -4.2810\n",
            "Epoch 58/100\n",
            "1/1 [==============================] - 0s 22ms/step - loss: 0.8968 - r2_keras_custom: -7.3605 - val_loss: 0.3800 - val_r2_keras_custom: -4.2556\n",
            "Epoch 59/100\n",
            "1/1 [==============================] - 0s 21ms/step - loss: 0.8923 - r2_keras_custom: -7.3187 - val_loss: 0.3782 - val_r2_keras_custom: -4.2304\n",
            "Epoch 60/100\n",
            "1/1 [==============================] - 0s 21ms/step - loss: 0.8879 - r2_keras_custom: -7.2772 - val_loss: 0.3764 - val_r2_keras_custom: -4.2054\n",
            "Epoch 61/100\n",
            "1/1 [==============================] - 0s 21ms/step - loss: 0.8834 - r2_keras_custom: -7.2358 - val_loss: 0.3746 - val_r2_keras_custom: -4.1805\n",
            "Epoch 62/100\n",
            "1/1 [==============================] - 0s 22ms/step - loss: 0.8790 - r2_keras_custom: -7.1947 - val_loss: 0.3728 - val_r2_keras_custom: -4.1557\n",
            "Epoch 63/100\n",
            "1/1 [==============================] - 0s 20ms/step - loss: 0.8747 - r2_keras_custom: -7.1539 - val_loss: 0.3710 - val_r2_keras_custom: -4.1311\n",
            "Epoch 64/100\n",
            "1/1 [==============================] - 0s 19ms/step - loss: 0.8703 - r2_keras_custom: -7.1133 - val_loss: 0.3692 - val_r2_keras_custom: -4.1066\n",
            "Epoch 65/100\n",
            "1/1 [==============================] - 0s 18ms/step - loss: 0.8660 - r2_keras_custom: -7.0729 - val_loss: 0.3675 - val_r2_keras_custom: -4.0823\n",
            "Epoch 66/100\n",
            "1/1 [==============================] - 0s 24ms/step - loss: 0.8617 - r2_keras_custom: -7.0327 - val_loss: 0.3657 - val_r2_keras_custom: -4.0581\n",
            "Epoch 67/100\n",
            "1/1 [==============================] - 0s 22ms/step - loss: 0.8574 - r2_keras_custom: -6.9928 - val_loss: 0.3640 - val_r2_keras_custom: -4.0340\n",
            "Epoch 68/100\n",
            "1/1 [==============================] - 0s 20ms/step - loss: 0.8531 - r2_keras_custom: -6.9531 - val_loss: 0.3623 - val_r2_keras_custom: -4.0101\n",
            "Epoch 69/100\n",
            "1/1 [==============================] - 0s 22ms/step - loss: 0.8489 - r2_keras_custom: -6.9136 - val_loss: 0.3605 - val_r2_keras_custom: -3.9863\n",
            "Epoch 70/100\n",
            "1/1 [==============================] - 0s 23ms/step - loss: 0.8447 - r2_keras_custom: -6.8746 - val_loss: 0.3588 - val_r2_keras_custom: -3.9627\n",
            "Epoch 71/100\n",
            "1/1 [==============================] - 0s 18ms/step - loss: 0.8406 - r2_keras_custom: -6.8360 - val_loss: 0.3571 - val_r2_keras_custom: -3.9392\n",
            "Epoch 72/100\n",
            "1/1 [==============================] - 0s 20ms/step - loss: 0.8364 - r2_keras_custom: -6.7977 - val_loss: 0.3554 - val_r2_keras_custom: -3.9159\n",
            "Epoch 73/100\n",
            "1/1 [==============================] - 0s 19ms/step - loss: 0.8324 - r2_keras_custom: -6.7596 - val_loss: 0.3538 - val_r2_keras_custom: -3.8927\n",
            "Epoch 74/100\n",
            "1/1 [==============================] - 0s 18ms/step - loss: 0.8283 - r2_keras_custom: -6.7218 - val_loss: 0.3521 - val_r2_keras_custom: -3.8697\n",
            "Epoch 75/100\n",
            "1/1 [==============================] - 0s 19ms/step - loss: 0.8243 - r2_keras_custom: -6.6842 - val_loss: 0.3505 - val_r2_keras_custom: -3.8468\n",
            "Epoch 76/100\n",
            "1/1 [==============================] - 0s 21ms/step - loss: 0.8203 - r2_keras_custom: -6.6469 - val_loss: 0.3488 - val_r2_keras_custom: -3.8241\n",
            "Epoch 77/100\n",
            "1/1 [==============================] - 0s 25ms/step - loss: 0.8163 - r2_keras_custom: -6.6097 - val_loss: 0.3472 - val_r2_keras_custom: -3.8015\n",
            "Epoch 78/100\n",
            "1/1 [==============================] - 0s 23ms/step - loss: 0.8123 - r2_keras_custom: -6.5728 - val_loss: 0.3456 - val_r2_keras_custom: -3.7790\n",
            "Epoch 79/100\n",
            "1/1 [==============================] - 0s 21ms/step - loss: 0.8084 - r2_keras_custom: -6.5361 - val_loss: 0.3439 - val_r2_keras_custom: -3.7567\n",
            "Epoch 80/100\n",
            "1/1 [==============================] - 0s 17ms/step - loss: 0.8045 - r2_keras_custom: -6.4997 - val_loss: 0.3423 - val_r2_keras_custom: -3.7345\n",
            "Epoch 81/100\n",
            "1/1 [==============================] - 0s 19ms/step - loss: 0.8006 - r2_keras_custom: -6.4634 - val_loss: 0.3407 - val_r2_keras_custom: -3.7124\n",
            "Epoch 82/100\n",
            "1/1 [==============================] - 0s 20ms/step - loss: 0.7967 - r2_keras_custom: -6.4274 - val_loss: 0.3392 - val_r2_keras_custom: -3.6905\n",
            "Epoch 83/100\n",
            "1/1 [==============================] - 0s 19ms/step - loss: 0.7929 - r2_keras_custom: -6.3916 - val_loss: 0.3376 - val_r2_keras_custom: -3.6687\n",
            "Epoch 84/100\n",
            "1/1 [==============================] - 0s 19ms/step - loss: 0.7891 - r2_keras_custom: -6.3559 - val_loss: 0.3360 - val_r2_keras_custom: -3.6470\n",
            "Epoch 85/100\n",
            "1/1 [==============================] - 0s 18ms/step - loss: 0.7853 - r2_keras_custom: -6.3205 - val_loss: 0.3345 - val_r2_keras_custom: -3.6255\n",
            "Epoch 86/100\n",
            "1/1 [==============================] - 0s 21ms/step - loss: 0.7815 - r2_keras_custom: -6.2853 - val_loss: 0.3329 - val_r2_keras_custom: -3.6041\n",
            "Epoch 87/100\n",
            "1/1 [==============================] - 0s 21ms/step - loss: 0.7777 - r2_keras_custom: -6.2503 - val_loss: 0.3314 - val_r2_keras_custom: -3.5828\n",
            "Epoch 88/100\n",
            "1/1 [==============================] - 0s 21ms/step - loss: 0.7740 - r2_keras_custom: -6.2155 - val_loss: 0.3298 - val_r2_keras_custom: -3.5616\n",
            "Epoch 89/100\n",
            "1/1 [==============================] - 0s 20ms/step - loss: 0.7703 - r2_keras_custom: -6.1808 - val_loss: 0.3283 - val_r2_keras_custom: -3.5406\n",
            "Epoch 90/100\n",
            "1/1 [==============================] - 0s 19ms/step - loss: 0.7666 - r2_keras_custom: -6.1464 - val_loss: 0.3268 - val_r2_keras_custom: -3.5196\n",
            "Epoch 91/100\n",
            "1/1 [==============================] - 0s 20ms/step - loss: 0.7629 - r2_keras_custom: -6.1122 - val_loss: 0.3253 - val_r2_keras_custom: -3.4988\n",
            "Epoch 92/100\n",
            "1/1 [==============================] - 0s 18ms/step - loss: 0.7593 - r2_keras_custom: -6.0782 - val_loss: 0.3238 - val_r2_keras_custom: -3.4782\n",
            "Epoch 93/100\n",
            "1/1 [==============================] - 0s 21ms/step - loss: 0.7556 - r2_keras_custom: -6.0443 - val_loss: 0.3223 - val_r2_keras_custom: -3.4576\n",
            "Epoch 94/100\n",
            "1/1 [==============================] - 0s 30ms/step - loss: 0.7520 - r2_keras_custom: -6.0106 - val_loss: 0.3208 - val_r2_keras_custom: -3.4371\n",
            "Epoch 95/100\n",
            "1/1 [==============================] - 0s 20ms/step - loss: 0.7484 - r2_keras_custom: -5.9772 - val_loss: 0.3194 - val_r2_keras_custom: -3.4168\n",
            "Epoch 96/100\n",
            "1/1 [==============================] - 0s 19ms/step - loss: 0.7449 - r2_keras_custom: -5.9439 - val_loss: 0.3179 - val_r2_keras_custom: -3.3966\n",
            "Epoch 97/100\n",
            "1/1 [==============================] - 0s 20ms/step - loss: 0.7413 - r2_keras_custom: -5.9108 - val_loss: 0.3164 - val_r2_keras_custom: -3.3765\n",
            "Epoch 98/100\n",
            "1/1 [==============================] - 0s 20ms/step - loss: 0.7378 - r2_keras_custom: -5.8779 - val_loss: 0.3150 - val_r2_keras_custom: -3.3565\n",
            "Epoch 99/100\n",
            "1/1 [==============================] - 0s 23ms/step - loss: 0.7343 - r2_keras_custom: -5.8451 - val_loss: 0.3136 - val_r2_keras_custom: -3.3366\n",
            "Epoch 100/100\n",
            "1/1 [==============================] - 0s 18ms/step - loss: 0.7308 - r2_keras_custom: -5.8126 - val_loss: 0.3121 - val_r2_keras_custom: -3.3169\n"
          ],
          "name": "stdout"
        },
        {
          "output_type": "execute_result",
          "data": {
            "text/plain": [
              "<tensorflow.python.keras.callbacks.History at 0x7fbfba37c780>"
            ]
          },
          "metadata": {
            "tags": []
          },
          "execution_count": 35
        }
      ]
    },
    {
      "cell_type": "code",
      "metadata": {
        "id": "2Jal1r9IPDaH"
      },
      "source": [
        ""
      ],
      "execution_count": null,
      "outputs": []
    }
  ]
}